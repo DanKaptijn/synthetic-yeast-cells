{
 "cells": [
  {
   "cell_type": "code",
   "execution_count": 1,
   "metadata": {},
   "outputs": [],
   "source": [
    "import json\n",
    "import umsgpack\n",
    "from syntheticyeastcells.detectron2 import create_dataset"
   ]
  },
  {
   "cell_type": "code",
   "execution_count": 2,
   "metadata": {
    "colab": {},
    "colab_type": "code",
    "hidden": true,
    "id": "eN9DEnOugSpv"
   },
   "outputs": [
    {
     "data": {
      "application/vnd.jupyter.widget-view+json": {
       "model_id": "f6d66ac563f148f9a9a1992f69173e4b",
       "version_major": 2,
       "version_minor": 0
      },
      "text/plain": [
       "HBox(children=(HTML(value=''), FloatProgress(value=0.0, max=22000.0), HTML(value='')))"
      ]
     },
     "metadata": {},
     "output_type": "display_data"
    },
    {
     "name": "stdout",
     "output_type": "stream",
     "text": [
      "\n"
     ]
    }
   ],
   "source": [
    "synthetic_data_folder = (\n",
    "  '/slow-data/p253591/yeast cells/data/synthetic/v10')\n",
    "\n",
    "labels = create_dataset(\n",
    "  # Where to store the data set\n",
    "  synthetic_data_folder,\n",
    "\n",
    "  # sizesof several subsets\n",
    "  sets={'test': 1000, 'val': 1000, 'train': 20000},\n",
    "\n",
    "  # same parameters as before\n",
    "  n_cells_per_image=100,\n",
    "  size=(512, 512),\n",
    "  min_distance_boundary=50,\n",
    "  r0_range=(2, 14),\n",
    "  r1_factor_range=(0.7, 1.3),\n",
    "  spatial_blur_std=1.5,\n",
    "  background_intensity=0.4,\n",
    "  background_contrast=0.00188,\n",
    "  core_contrast=0.0752,\n",
    "  p_white_outside=0.5,\n",
    "\n",
    "  # number of processes to run in parallel, number of samples created in one batch\n",
    "  njobs=40, batch_size=100,\n",
    "\n",
    "  # show a progressbar\n",
    "  progressbar=True)\n",
    "\n",
    "# with open(f'{synthetic_data_folder}/labels.json', 'w') as f:\n",
    "#   json.dump(labels, f)\n",
    "\n",
    "with open(f'{synthetic_data_folder}/labels.umsgpack', 'wb') as f:  \n",
    "    umsgpack.pack(labels, f)"
   ]
  },
  {
   "cell_type": "code",
   "execution_count": 8,
   "metadata": {},
   "outputs": [],
   "source": [
    "with open(f'{synthetic_data_folder}/labels.umsgpack', 'wb') as f:  \n",
    "    umsgpack.pack(labels, f)"
   ]
  }
 ],
 "metadata": {
  "colab": {
   "collapsed_sections": [
    "M2m2uKYAhkWZ",
    "uX9r_pFohsux",
    "BxAn39NQhvfA",
    "tA9ciQCrj0mK",
    "HKAaomF8kth5",
    "eB_yldWNh4NJ"
   ],
   "name": "Create Synthetic yeast cells.ipynb",
   "provenance": [
    {
     "file_id": "1fS7BkWQeaIqmz8cWKi_Irc4ng5tl7AvO",
     "timestamp": 1548074154210
    }
   ]
  },
  "kernelspec": {
   "display_name": "Python 3.7 (Minimal Yeast Cells)",
   "language": "python",
   "name": "yeast"
  },
  "language_info": {
   "codemirror_mode": {
    "name": "ipython",
    "version": 3
   },
   "file_extension": ".py",
   "mimetype": "text/x-python",
   "name": "python",
   "nbconvert_exporter": "python",
   "pygments_lexer": "ipython3",
   "version": "3.7.9"
  },
  "varInspector": {
   "cols": {
    "lenName": 16,
    "lenType": 16,
    "lenVar": 40
   },
   "kernels_config": {
    "python": {
     "delete_cmd_postfix": "",
     "delete_cmd_prefix": "del ",
     "library": "var_list.py",
     "varRefreshCmd": "print(var_dic_list())"
    },
    "r": {
     "delete_cmd_postfix": ") ",
     "delete_cmd_prefix": "rm(",
     "library": "var_list.r",
     "varRefreshCmd": "cat(var_dic_list()) "
    }
   },
   "types_to_exclude": [
    "module",
    "function",
    "builtin_function_or_method",
    "instance",
    "_Feature"
   ],
   "window_display": false
  }
 },
 "nbformat": 4,
 "nbformat_minor": 1
}
